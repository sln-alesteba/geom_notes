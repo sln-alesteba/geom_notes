{
 "cells": [
  {
   "cell_type": "code",
   "execution_count": 99,
   "metadata": {},
   "outputs": [],
   "source": [
    "# notebook, test & write the derivative in matrix form; \n",
    "# equivalent in latex alg; \n",
    "# prj -> [[prj-(24-10-16)-rewrite-monomial-basis-latex-algorithm]]"
   ]
  },
  {
   "cell_type": "markdown",
   "metadata": {},
   "source": [
    "### Basic Polynomial Eval"
   ]
  },
  {
   "cell_type": "code",
   "execution_count": 100,
   "metadata": {},
   "outputs": [],
   "source": [
    "import matplotlib.pyplot as plt"
   ]
  },
  {
   "cell_type": "code",
   "execution_count": 101,
   "metadata": {},
   "outputs": [],
   "source": [
    "import sympy as sp"
   ]
  },
  {
   "cell_type": "code",
   "execution_count": 102,
   "metadata": {},
   "outputs": [],
   "source": [
    "import numpy as np"
   ]
  },
  {
   "cell_type": "code",
   "execution_count": 103,
   "metadata": {},
   "outputs": [],
   "source": [
    "class PolynomialDrawer():\n",
    "\n",
    "    def __init__(self, mat, control_values):\n",
    "\n",
    "        self.mat = mat\n",
    "\n",
    "        self.coeffs = control_values\n",
    "\n",
    "    def eval(self, t):\n",
    "\n",
    "        powers = [i for i in range(0,len(self.coeffs))][::-1]\n",
    "        \n",
    "        return t**powers @ self.mat @ self.coeffs"
   ]
  },
  {
   "cell_type": "code",
   "execution_count": 105,
   "metadata": {},
   "outputs": [],
   "source": [
    "random_matrix = np.random.rand(4, 4)"
   ]
  },
  {
   "cell_type": "code",
   "execution_count": 106,
   "metadata": {},
   "outputs": [
    {
     "data": {
      "text/plain": [
       "array([[0.18842829, 0.10009505, 0.05271927, 0.18253846],\n",
       "       [0.45938313, 0.39324808, 0.79555118, 0.79114705],\n",
       "       [0.8236726 , 0.69399774, 0.95033586, 0.54851551],\n",
       "       [0.72505891, 0.71842107, 0.85796941, 0.93634904]])"
      ]
     },
     "execution_count": 106,
     "metadata": {},
     "output_type": "execute_result"
    }
   ],
   "source": [
    "random_matrix"
   ]
  },
  {
   "cell_type": "code",
   "execution_count": 107,
   "metadata": {},
   "outputs": [
    {
     "data": {
      "text/plain": [
       "[<matplotlib.lines.Line2D at 0x7abf79ffd900>]"
      ]
     },
     "execution_count": 107,
     "metadata": {},
     "output_type": "execute_result"
    },
    {
     "data": {
      "image/png": "[encoded data removed]",
      "text/plain": [
       "<Figure size 640x480 with 1 Axes>"
      ]
     },
     "metadata": {},
     "output_type": "display_data"
    }
   ],
   "source": [
    "vertices = [0, 0], [5, 1], [1, 2], [5, 2]\n",
    "\n",
    "s = PolynomialDrawer(random_matrix, [*vertices])\n",
    "\n",
    "tetha = np.linspace(0,1, 100)\n",
    "\n",
    "points = [s.eval(t) for t in tetha]\n",
    "\n",
    "plt.plot(*zip(*points))"
   ]
  },
  {
   "cell_type": "markdown",
   "metadata": {},
   "source": [
    "### Differentiable Matrix (at evaluation)"
   ]
  },
  {
   "cell_type": "code",
   "execution_count": 108,
   "metadata": {},
   "outputs": [],
   "source": [
    "import numpy as np"
   ]
  },
  {
   "cell_type": "code",
   "execution_count": 109,
   "metadata": {},
   "outputs": [],
   "source": [
    "m_val = [*vertices]"
   ]
  },
  {
   "cell_type": "code",
   "execution_count": 110,
   "metadata": {},
   "outputs": [],
   "source": [
    "m_mat = np.array([\n",
    "\n",
    "        [2, -2, 1, 1],\n",
    "        [-3, 3, -2, -1],\n",
    "        [0, 0, 1, 0],\n",
    "        [1, 0, 0, 0]\n",
    "\n",
    "    ])\n",
    "\n",
    "mat1 = m_mat @ m_val"
   ]
  },
  {
   "cell_type": "code",
   "execution_count": 111,
   "metadata": {},
   "outputs": [
    {
     "data": {
      "text/plain": [
       "array([[-4,  2],\n",
       "       [ 8, -3],\n",
       "       [ 1,  2],\n",
       "       [ 0,  0]])"
      ]
     },
     "execution_count": 111,
     "metadata": {},
     "output_type": "execute_result"
    }
   ],
   "source": [
    "mat1"
   ]
  },
  {
   "cell_type": "code",
   "execution_count": 112,
   "metadata": {},
   "outputs": [],
   "source": [
    "# derivative number to evaluate at\n",
    "\n",
    "n = 1"
   ]
  },
  {
   "cell_type": "code",
   "execution_count": 113,
   "metadata": {},
   "outputs": [],
   "source": [
    "# parameter space\n",
    "\n",
    "t = 0.4"
   ]
  },
  {
   "cell_type": "code",
   "execution_count": 114,
   "metadata": {},
   "outputs": [
    {
     "data": {
      "text/plain": [
       "array([0.4])"
      ]
     },
     "execution_count": 114,
     "metadata": {},
     "output_type": "execute_result"
    }
   ],
   "source": [
    "# expand into array\n",
    "\n",
    "t = np.expand_dims(t, -1)\n",
    "\n",
    "t"
   ]
  },
  {
   "cell_type": "code",
   "execution_count": 115,
   "metadata": {},
   "outputs": [],
   "source": [
    "# matrix reduction by deriv number\n",
    "\n",
    "coeffs = mat1[:-n or None]"
   ]
  },
  {
   "cell_type": "code",
   "execution_count": 116,
   "metadata": {},
   "outputs": [
    {
     "data": {
      "text/plain": [
       "array([[-4,  2],\n",
       "       [ 8, -3],\n",
       "       [ 1,  2]])"
      ]
     },
     "execution_count": 116,
     "metadata": {},
     "output_type": "execute_result"
    }
   ],
   "source": [
    "coeffs"
   ]
  },
  {
   "cell_type": "code",
   "execution_count": 117,
   "metadata": {},
   "outputs": [
    {
     "data": {
      "text/plain": [
       "array([2, 1, 0])"
      ]
     },
     "execution_count": 117,
     "metadata": {},
     "output_type": "execute_result"
    }
   ],
   "source": [
    "#power basis (terms of matrix dim)\n",
    "\n",
    "powers = np.arange(len(coeffs))[::-1]\n",
    "\n",
    "powers"
   ]
  },
  {
   "cell_type": "code",
   "execution_count": 118,
   "metadata": {},
   "outputs": [],
   "source": [
    "# weights ny powers and n\n",
    "\n",
    "weights = [powers + 1 + i for i in range(n)]"
   ]
  },
  {
   "cell_type": "code",
   "execution_count": 119,
   "metadata": {},
   "outputs": [
    {
     "data": {
      "text/plain": [
       "array([3, 2, 1])"
      ]
     },
     "execution_count": 119,
     "metadata": {},
     "output_type": "execute_result"
    }
   ],
   "source": [
    "# reduce\n",
    "\n",
    "weights = np.multiply.reduce(weights) \n",
    "\n",
    "weights"
   ]
  },
  {
   "cell_type": "code",
   "execution_count": 120,
   "metadata": {},
   "outputs": [
    {
     "data": {
      "text/plain": [
       "array([0.16, 0.4 , 1.  ])"
      ]
     },
     "execution_count": 120,
     "metadata": {},
     "output_type": "execute_result"
    }
   ],
   "source": [
    "# monomial basis; \n",
    "\n",
    "t**powers"
   ]
  },
  {
   "cell_type": "code",
   "execution_count": 121,
   "metadata": {},
   "outputs": [
    {
     "data": {
      "text/plain": [
       "array([0.48, 0.8 , 1.  ])"
      ]
     },
     "execution_count": 121,
     "metadata": {},
     "output_type": "execute_result"
    }
   ],
   "source": [
    "# full operation\n",
    "\n",
    "t**powers * weights"
   ]
  },
  {
   "cell_type": "code",
   "execution_count": 122,
   "metadata": {},
   "outputs": [
    {
     "data": {
      "text/plain": [
       "array([5.48, 0.56])"
      ]
     },
     "execution_count": 122,
     "metadata": {},
     "output_type": "execute_result"
    }
   ],
   "source": [
    "# full operation, with input matrix\n",
    "\n",
    "(t**powers * weights) @ coeffs"
   ]
  },
  {
   "cell_type": "code",
   "execution_count": 123,
   "metadata": {},
   "outputs": [
    {
     "name": "stdout",
     "output_type": "stream",
     "text": [
      "1.0\n",
      "[3 2 1]\n",
      "[12  6  2]\n",
      "[60 24  6]\n",
      "[360 120  24]\n"
     ]
    }
   ],
   "source": [
    "# reducing the powers\n",
    "# weights at diff deriv values\n",
    "\n",
    "ns = [0, 1, 2, 3, 4]\n",
    "\n",
    "for n in ns: \n",
    "\n",
    "    weights = np.multiply.reduce([powers + 1 + i for i in range(n)]) \n",
    "\n",
    "    print (weights)"
   ]
  },
  {
   "cell_type": "code",
   "execution_count": 124,
   "metadata": {},
   "outputs": [],
   "source": [
    "# values at different derevatives"
   ]
  },
  {
   "cell_type": "code",
   "execution_count": 125,
   "metadata": {},
   "outputs": [
    {
     "name": "stdout",
     "output_type": "stream",
     "text": [
      "deriv: 0\n",
      "powrs: [3 2 1 0]\n",
      "t_vec: [0.125 0.25  0.5   1.   ]\n",
      "weigh: []\n",
      "wei_r: 1.0\n",
      "---\n",
      "deriv: 1\n",
      "powrs: [2 1 0]\n",
      "t_vec: [0.25 0.5  1.  ]\n",
      "weigh: [array([3, 2, 1])]\n",
      "wei_r: [3 2 1]\n",
      "---\n",
      "deriv: 2\n",
      "powrs: [1 0]\n",
      "t_vec: [0.5 1. ]\n",
      "weigh: [array([2, 1]), array([3, 2])]\n",
      "wei_r: [6 2]\n",
      "---\n",
      "deriv: 3\n",
      "powrs: [0]\n",
      "t_vec: [1.]\n",
      "weigh: [array([1]), array([2]), array([3])]\n",
      "wei_r: [6]\n",
      "---\n"
     ]
    }
   ],
   "source": [
    "ns = [0, 1, 2, 3]\n",
    "\n",
    "for n in ns: \n",
    "\n",
    "    t = 0.5\n",
    "\n",
    "    print(\"deriv:\", n)\n",
    "\n",
    "    coefsss = mat1[:-n or None]\n",
    "\n",
    "    # print (\"matrix\", coeffs)\n",
    "\n",
    "    powers = np.arange(len(coefsss))[::-1]\n",
    "\n",
    "    print (\"powrs:\", powers)\n",
    "\n",
    "    t = np.expand_dims(t, -1)\n",
    "\n",
    "    print(\"t_vec:\",t**powers)\n",
    "\n",
    "    weights = [powers + 1 + i for i in range(n)]\n",
    "\n",
    "    print(\"weigh:\", weights)\n",
    "\n",
    "    weights = np.multiply.reduce(weights) \n",
    "\n",
    "    print(\"wei_r:\", weights)\n",
    "\n",
    "    print(\"---\")"
   ]
  },
  {
   "cell_type": "markdown",
   "metadata": {},
   "source": [
    "### Polynomial Drawer (differentiable mode)"
   ]
  },
  {
   "cell_type": "code",
   "execution_count": 126,
   "metadata": {},
   "outputs": [],
   "source": [
    "class PolynomialDrawer_Diff():\n",
    "\n",
    "    def __init__(self, mat, control_values):\n",
    "\n",
    "        self.mat = mat\n",
    "\n",
    "        self.coeffs = control_values\n",
    "\n",
    "    def eval(self, t, n):\n",
    "\n",
    "        coeffs1 = (self.mat @ self.coeffs)[:-n or None]\n",
    "\n",
    "        powers = np.arange(len(coeffs1))[::-1]\n",
    "\n",
    "        weights = [powers + 1 + i for i in range(n)]\n",
    "\n",
    "        weights = np.multiply.reduce(weights)\n",
    "\n",
    "        t_mon = np.expand_dims(t, -1)\n",
    "        \n",
    "        return (t_mon**powers * weights) @ coeffs1"
   ]
  },
  {
   "cell_type": "code",
   "execution_count": 127,
   "metadata": {},
   "outputs": [
    {
     "data": {
      "text/plain": [
       "array([[0, 0],\n",
       "       [5, 1],\n",
       "       [1, 2],\n",
       "       [5, 2]])"
      ]
     },
     "execution_count": 127,
     "metadata": {},
     "output_type": "execute_result"
    }
   ],
   "source": [
    "vertices = [0, 0], [5, 1], [1, 2], [5, 2]\n",
    "\n",
    "np.array([*vertices])"
   ]
  },
  {
   "cell_type": "code",
   "execution_count": 128,
   "metadata": {},
   "outputs": [
    {
     "data": {
      "text/plain": [
       "array([[0, 0],\n",
       "       [5, 1],\n",
       "       [1, 2],\n",
       "       [5, 2]])"
      ]
     },
     "execution_count": 128,
     "metadata": {},
     "output_type": "execute_result"
    }
   ],
   "source": [
    "vertices = np.array([[0, 0], [5, 1], [1, 2], [5, 2]])\n",
    "\n",
    "vertices"
   ]
  },
  {
   "cell_type": "code",
   "execution_count": 131,
   "metadata": {},
   "outputs": [
    {
     "data": {
      "image/png": "[encoded data removed]",
      "text/plain": [
       "<Figure size 1500x500 with 3 Axes>"
      ]
     },
     "metadata": {},
     "output_type": "display_data"
    }
   ],
   "source": [
    "fig, axs = plt.subplots(1, 3, figsize=(15, 5))\n",
    "\n",
    "ns = [0, 1, 2]\n",
    "\n",
    "for idx, n in enumerate(ns):\n",
    "\n",
    "    m_mat = np.array([\n",
    "\n",
    "        [2, -2, 1, 1],\n",
    "        [-3, 3, -2, -1],\n",
    "        [0, 0, 1, 0],\n",
    "        [1, 0, 0, 0]\n",
    "\n",
    "    ])\n",
    "\n",
    "    vertices = np.array([[0, 0], [5, 1], [1, 2], [5, 2]])\n",
    "\n",
    "    s = PolynomialDrawer_Diff(m_mat, vertices)\n",
    "\n",
    "    tetha = np.linspace(0,1, 100)\n",
    "\n",
    "    render = [s.eval(t, n) for t in tetha]\n",
    "\n",
    "    axs[idx].plot(*zip(*render))\n",
    "    # axs[idx].plot(*vertices.T, 'x:g')\n",
    "    axs[idx].axis('equal');\n",
    "\n",
    "plt.show()"
   ]
  }
 ],
 "metadata": {
  "kernelspec": {
   "display_name": "venv-grph",
   "language": "python",
   "name": "python3"
  },
  "language_info": {
   "codemirror_mode": {
    "name": "ipython",
    "version": 3
   },
   "file_extension": ".py",
   "mimetype": "text/x-python",
   "name": "python",
   "nbconvert_exporter": "python",
   "pygments_lexer": "ipython3",
   "version": "3.10.12"
  },
  "orig_nbformat": 4
 },
 "nbformat": 4,
 "nbformat_minor": 2
}
